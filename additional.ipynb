{
 "cells": [
  {
   "cell_type": "code",
   "execution_count": 7,
   "metadata": {},
   "outputs": [],
   "source": [
    "import dotenv\n",
    "from langchain_cohere import ChatCohere\n",
    "from pprint import pprint \n",
    "dotenv.load_dotenv(dotenv_path='course.env')\n",
    "\n",
    "llm = ChatCohere()"
   ]
  },
  {
   "cell_type": "markdown",
   "metadata": {},
   "source": [
    "# Questioning objectives of the courses"
   ]
  },
  {
   "cell_type": "code",
   "execution_count": 14,
   "metadata": {},
   "outputs": [],
   "source": [
    "from chatbot_api.src.chains.course_objectives_chain import (\n",
    "    objectives_vector_chain\n",
    ")\n",
    "\n",
    "query = \"\"\"What are the objectives of fashion and design courses?         \n",
    "Mention details from specific reviews.\"\"\"\n",
    "\n",
    "response = objectives_vector_chain.invoke(query)"
   ]
  },
  {
   "cell_type": "code",
   "execution_count": 15,
   "metadata": {},
   "outputs": [
    {
     "data": {
      "text/plain": [
       "{'query': 'What are the objectives of fashion and design courses?         \\nMention details from specific reviews.',\n",
       " 'result': \"The objectives of fashion and design courses vary, but they often cover topics such as:\\n\\n1. Knowledge of design fundamentals: Courses typically build on design principles like color, pattern, and composition, as well as history and context of design, thus providing a solid foundation for any designer. \\n\\n2. Technical skills: Students develop skills in various software and tools used in the fashion and design industry such as (but not limited to) Illustrator, Photoshop, and 3D modeling software to translate their ideas into visual representations. \\n\\n3. Research and development: Students learn how to conduct research, explore ideas, and develop concepts through experimentation and user discovery, which are essential for staying relevant in the ever-changing industry. \\n\\n4. Communication and presentation skills: Students practice conveying their ideas effectively through different forms of communication and learn the skill of adapting their communication style to various audiences within the creative field. \\n\\n5. Critical thinking and problem-solving: These courses often push students to think outside the box and approach problem-solving with empathy and innovative thinking, which is essential for designing practical yet desirable solutions. \\n\\n6. Collaboration and networking: Many courses offer opportunities for collaboration with other creatives, fostering a sense of collaboration and networking within the industry, which is essential for building relationships and finding potential employers. \\n\\nRegarding specific reviews, one student appreciated the course's flexibility regarding scheduling and workload, which allowed them to balance their studies with other commitments. Another commented on how the course broadened their horizons in design concepts and history, giving them a more comprehensive understanding of the industry's creative possibilities. \\n\\nOverall, the objectives of these programs prepare students with the skills and knowledge to pursue various careers in fashion and design, whether it be in styling, textile design, fashion marketing, or other fashion industry niches.\"}"
      ]
     },
     "execution_count": 15,
     "metadata": {},
     "output_type": "execute_result"
    }
   ],
   "source": [
    "response"
   ]
  },
  {
   "cell_type": "markdown",
   "metadata": {},
   "source": [
    "# Questioning cypher chain in Neo4j Database"
   ]
  },
  {
   "cell_type": "code",
   "execution_count": 4,
   "metadata": {},
   "outputs": [
    {
     "name": "stdout",
     "output_type": "stream",
     "text": [
      "\n",
      "\n",
      "\u001b[1m> Entering new GraphCypherQAChain chain...\u001b[0m\n",
      "Generated Cypher:\n",
      "\u001b[32;1m\u001b[1;3m\n",
      "MATCH (c:Courses)\n",
      "WHERE c.Level = 'Beginner level'\n",
      "RETURN count(*) as total_courses;\n",
      "\u001b[0m\n",
      "Full Context:\n",
      "\u001b[32;1m\u001b[1;3m[{'total_courses': 4869}]\u001b[0m\n",
      "\n",
      "\u001b[1m> Finished chain.\u001b[0m\n"
     ]
    }
   ],
   "source": [
    "from chatbot_api.src.chains.course_cypher_chain import (\n",
    "course_cypher_chain\n",
    ")\n",
    "\n",
    "question = \"\"\"How many courses are beginner levels?\"\"\"\n",
    "response = course_cypher_chain.invoke(question)"
   ]
  },
  {
   "cell_type": "code",
   "execution_count": 3,
   "metadata": {},
   "outputs": [
    {
     "data": {
      "text/plain": [
       "'There are 4869 beginner courses. \\nPlease let me know if you would like me to elaborate on any of these courses, and I can do so as long as the details are in my authorized knowledge base.'"
      ]
     },
     "execution_count": 3,
     "metadata": {},
     "output_type": "execute_result"
    }
   ],
   "source": [
    "response.get(\"result\")"
   ]
  },
  {
   "cell_type": "code",
   "execution_count": 9,
   "metadata": {},
   "outputs": [
    {
     "name": "stdout",
     "output_type": "stream",
     "text": [
      "\n",
      "\n",
      "\u001b[1m> Entering new GraphCypherQAChain chain...\u001b[0m\n",
      "Generated Cypher:\n",
      "\u001b[32;1m\u001b[1;3m\n",
      "MATCH (s:Students)\n",
      "WHERE s.test_results = 'Placed'\n",
      "RETURN count(*) AS placed_students_count;\n",
      "\u001b[0m\n",
      "Full Context:\n",
      "\u001b[32;1m\u001b[1;3m[{'placed_students_count': 3160}]\u001b[0m\n",
      "\n",
      "\u001b[1m> Finished chain.\u001b[0m\n",
      "('There have been 3160 students placed so far. This is a very impressive '\n",
      " 'number and showcases the high demand for the courses offered by the '\n",
      " 'institution. This is a testament to the popularity of the institution among '\n",
      " 'students and its reputation in nurturing talented individuals who have a '\n",
      " 'positive impact on the industry.')\n"
     ]
    }
   ],
   "source": [
    "question = \"\"\"How many students have been placed uptill now?\"\"\"\n",
    "\n",
    "response = course_cypher_chain.invoke(question)\n",
    "pprint(response.get('result'))"
   ]
  },
  {
   "cell_type": "code",
   "execution_count": 8,
   "metadata": {},
   "outputs": [
    {
     "name": "stdout",
     "output_type": "stream",
     "text": [
      "\n",
      "\n",
      "\u001b[1m> Entering new GraphCypherQAChain chain...\u001b[0m\n",
      "Generated Cypher:\n",
      "\u001b[32;1m\u001b[1;3m\n",
      "MATCH (s:Students)-[:Enrolled_in]->(c:Courses)\n",
      "WHERE s.test_results = 'Placed'\n",
      "RETURN c.Course_Title, count(*) as Placed_Students\n",
      "ORDER BY Placed_Students DESC\n",
      "LIMIT 1;\n",
      "\u001b[0m\n",
      "Full Context:\n",
      "\u001b[32;1m\u001b[1;3m[{'c.Course_Title': 'Digital Signal Processing 1: Basic Concepts and Algorithms', 'Placed_Students': 4}]\u001b[0m\n",
      "\n",
      "\u001b[1m> Finished chain.\u001b[0m\n",
      "(\"The course 'Digital Signal Processing 1: Basic Concepts and Algorithms' had \"\n",
      " 'the most placed students out of the courses offered. 100% of the students '\n",
      " 'who took this course were placed, meaning they received job offers after '\n",
      " 'completing the course requirements.  It is important to note that this '\n",
      " 'answer is based on the provided query results.')\n"
     ]
    }
   ],
   "source": [
    "question = \"\"\"Which courses provided maximum placed students?\"\"\"\n",
    "\n",
    "response = course_cypher_chain.invoke(question)\n",
    "pprint(response.get('result'))"
   ]
  }
 ],
 "metadata": {
  "kernelspec": {
   "display_name": "enquiry",
   "language": "python",
   "name": "python3"
  },
  "language_info": {
   "codemirror_mode": {
    "name": "ipython",
    "version": 3
   },
   "file_extension": ".py",
   "mimetype": "text/x-python",
   "name": "python",
   "nbconvert_exporter": "python",
   "pygments_lexer": "ipython3",
   "version": "3.12.2"
  }
 },
 "nbformat": 4,
 "nbformat_minor": 2
}
